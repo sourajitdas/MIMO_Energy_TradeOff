{
 "cells": [
  {
   "metadata": {},
   "cell_type": "markdown",
   "source": [
    "# 📓 MIMO Energy-Rate Tradeoff Simulation (Rayleigh, Correlated, Rician)\n",
    "---\n",
    "**Interactively explore MIMO channel models and energy-rate tradeoffs.**"
   ],
   "id": "ec75f0f52e0b8195"
  },
  {
   "cell_type": "code",
   "id": "initial_id",
   "metadata": {
    "collapsed": true,
    "ExecuteTime": {
     "end_time": "2025-04-25T19:35:09.117178Z",
     "start_time": "2025-04-25T19:35:08.909504Z"
    }
   },
   "source": [
    "# 1. Imports & Setup\n",
    "import numpy as np\n",
    "import matplotlib.pyplot as plt\n",
    "import ipywidgets as widgets\n",
    "from IPython.display import display, clear_output\n",
    "\n",
    "# Helper: Water-filling power allocation\n",
    "def water_filling(lam, total_power):\n",
    "    n = len(lam)\n",
    "    sorted_lam = np.sort(lam)[::-1]\n",
    "    for i in range(n):\n",
    "        mu = (total_power + sum(1.0 / sorted_lam[:i+1])) / (i + 1)\n",
    "        if all(mu - 1.0 / sorted_lam[j] >= 0 for j in range(i + 1)):\n",
    "            return mu\n",
    "    return None"
   ],
   "outputs": [],
   "execution_count": 1
  },
  {
   "metadata": {
    "ExecuteTime": {
     "end_time": "2025-04-25T19:35:09.124542Z",
     "start_time": "2025-04-25T19:35:09.120863Z"
    }
   },
   "cell_type": "code",
   "source": [
    "# 2. Channel Generation\n",
    "def generate_iid_rayleigh(m, n):\n",
    "    return np.random.randn(m, n) + 1j * np.random.randn(m, n)\n",
    "\n",
    "def generate_correlated_rayleigh(m, n, corr_coef=0.7):\n",
    "    Rt = np.eye(n) * (1 - corr_coef) + corr_coef * np.ones((n, n))\n",
    "    Rr = np.eye(m) * (1 - corr_coef) + corr_coef * np.ones((m, m))\n",
    "    H_iid = generate_iid_rayleigh(m, n)\n",
    "    return Rr @ H_iid @ Rt\n",
    "\n",
    "def generate_rician(m, n, K=5):\n",
    "    H_los = np.ones((m, n))\n",
    "    H_nlos = generate_iid_rayleigh(m, n)\n",
    "    return np.sqrt(K/(K+1)) * H_los + np.sqrt(1/(K+1)) * H_nlos"
   ],
   "id": "7b245dbe7a331908",
   "outputs": [],
   "execution_count": 2
  },
  {
   "metadata": {
    "ExecuteTime": {
     "end_time": "2025-04-25T19:35:09.272254Z",
     "start_time": "2025-04-25T19:35:09.269460Z"
    }
   },
   "cell_type": "code",
   "source": [
    "# 3. Rate Computation\n",
    "def compute_rate(H, power_levels, sigma2):\n",
    "    U, S, Vh = np.linalg.svd(H)\n",
    "    lam = (S**2) / sigma2\n",
    "    rates = []\n",
    "    for P in power_levels:\n",
    "        mu = water_filling(lam, P)\n",
    "        if mu is None:\n",
    "            continue\n",
    "        p_alloc = np.maximum(mu - 1.0 / lam, 0)\n",
    "        rate = np.sum(np.log2(1 + lam * p_alloc))\n",
    "        rates.append((P, rate))\n",
    "    return np.array(rates)"
   ],
   "id": "d967e7679793aeaf",
   "outputs": [],
   "execution_count": 3
  },
  {
   "metadata": {
    "ExecuteTime": {
     "end_time": "2025-04-25T19:35:09.318317Z",
     "start_time": "2025-04-25T19:35:09.313266Z"
    }
   },
   "cell_type": "code",
   "source": [
    "# 4. Simulation Runner\n",
    "def run_simulation(mimo_size, snr_inv, channel_type, num_channels=1):\n",
    "    m, n = mimo_size\n",
    "    sigma2 = snr_inv\n",
    "    power_levels = np.linspace(0.1, 10, 100)\n",
    "    all_rates = []\n",
    "    for _ in range(num_channels):\n",
    "        if channel_type == 'i.i.d Rayleigh':\n",
    "            H = generate_iid_rayleigh(m, n)\n",
    "        elif channel_type == 'Correlated Rayleigh':\n",
    "            H = generate_correlated_rayleigh(m, n)\n",
    "        elif channel_type == 'Rician':\n",
    "            H = generate_rician(m, n)\n",
    "        else:\n",
    "            raise ValueError('Invalid channel type')\n",
    "        rate_power = compute_rate(H, power_levels, sigma2)\n",
    "        all_rates.append(rate_power)\n",
    "    return all_rates"
   ],
   "id": "a18233cb436030d5",
   "outputs": [],
   "execution_count": 4
  },
  {
   "metadata": {
    "ExecuteTime": {
     "end_time": "2025-04-25T19:35:09.368434Z",
     "start_time": "2025-04-25T19:35:09.363699Z"
    }
   },
   "cell_type": "code",
   "source": [
    "# 5. Plotting\n",
    "def plot_results(results, mimo_size, snr_inv, channel_type):\n",
    "    plt.figure(figsize=(10, 7))\n",
    "    for i, curve in enumerate(results):\n",
    "        plt.plot(curve[:, 0], curve[:, 1], label=f'Channel {i+1}', alpha=0.7)\n",
    "        if i == 0:\n",
    "            idxs = [10, 30, 50, 70, 90]\n",
    "            for idx in idxs:\n",
    "                if idx < len(curve):\n",
    "                    p, r = curve[idx]\n",
    "                    plt.scatter(p, r, color='black')\n",
    "                    plt.text(p+0.2, r, f'{r:.2f}', fontsize=8)\n",
    "    plt.xlabel('Transmit Power (Watts)')\n",
    "    plt.ylabel('Achievable Rate (bits/s/Hz)')\n",
    "    plt.title(f'{channel_type} | {mimo_size[0]}x{mimo_size[1]} MIMO | SNR=1/{snr_inv}')\n",
    "    plt.grid(True)\n",
    "    plt.legend()\n",
    "    plt.tight_layout()\n",
    "    plt.show()"
   ],
   "id": "75bf174bfbc58170",
   "outputs": [],
   "execution_count": 5
  },
  {
   "metadata": {
    "ExecuteTime": {
     "end_time": "2025-04-25T19:35:09.441013Z",
     "start_time": "2025-04-25T19:35:09.413721Z"
    }
   },
   "cell_type": "code",
   "source": [
    "# 6. GUI Setup\n",
    "mimo_dropdown = widgets.Dropdown(\n",
    "    options=[(f'{m}x{n}', (m, n)) for m, n in [(2, 2), (4, 4), (8, 8)]],\n",
    "    description='MIMO Size:',\n",
    ")\n",
    "\n",
    "channel_dropdown = widgets.Dropdown(\n",
    "    options=['i.i.d Rayleigh', 'Correlated Rayleigh', 'Rician'],\n",
    "    description='Channel Type:',\n",
    ")\n",
    "\n",
    "snr_slider = widgets.FloatSlider(\n",
    "    value=1.0,\n",
    "    min=0.1,\n",
    "    max=5.0,\n",
    "    step=0.1,\n",
    "    description='SNR (1/σ²):',\n",
    ")\n",
    "\n",
    "num_channels_slider = widgets.IntSlider(\n",
    "    value=1,\n",
    "    min=1,\n",
    "    max=5,\n",
    "    step=1,\n",
    "    description='Num Channels:',\n",
    ")\n",
    "\n",
    "run_button = widgets.Button(description='Run Simulation')\n",
    "output_area = widgets.Output()\n",
    "\n",
    "def on_run_button_clicked(b):\n",
    "    with output_area:\n",
    "        clear_output(wait=True)\n",
    "        mimo_size = mimo_dropdown.value\n",
    "        channel_type = channel_dropdown.value\n",
    "        snr_inv = snr_slider.value\n",
    "        num_channels = num_channels_slider.value\n",
    "        results = run_simulation(mimo_size, snr_inv, channel_type, num_channels)\n",
    "        plot_results(results, mimo_size, snr_inv, channel_type)\n",
    "\n",
    "run_button.on_click(on_run_button_clicked)\n",
    "\n",
    "display(mimo_dropdown, channel_dropdown, snr_slider, num_channels_slider, run_button, output_area)\n",
    "print(\"Simulation started...\")"
   ],
   "id": "2d5efae50cb32084",
   "outputs": [
    {
     "data": {
      "text/plain": [
       "Dropdown(description='MIMO Size:', options=(('2x2', (2, 2)), ('4x4', (4, 4)), ('8x8', (8, 8))), value=(2, 2))"
      ],
      "application/vnd.jupyter.widget-view+json": {
       "version_major": 2,
       "version_minor": 0,
       "model_id": "251e359e138b4559acf93702c8de425f"
      }
     },
     "metadata": {},
     "output_type": "display_data"
    },
    {
     "data": {
      "text/plain": [
       "Dropdown(description='Channel Type:', options=('i.i.d Rayleigh', 'Correlated Rayleigh', 'Rician'), value='i.i.…"
      ],
      "application/vnd.jupyter.widget-view+json": {
       "version_major": 2,
       "version_minor": 0,
       "model_id": "ab789e02498841f7ae030d13dde2a31b"
      }
     },
     "metadata": {},
     "output_type": "display_data"
    },
    {
     "data": {
      "text/plain": [
       "FloatSlider(value=1.0, description='SNR (1/σ²):', max=5.0, min=0.1)"
      ],
      "application/vnd.jupyter.widget-view+json": {
       "version_major": 2,
       "version_minor": 0,
       "model_id": "a2965bf2e9b9453da9dfad35f6dd4481"
      }
     },
     "metadata": {},
     "output_type": "display_data"
    },
    {
     "data": {
      "text/plain": [
       "IntSlider(value=1, description='Num Channels:', max=5, min=1)"
      ],
      "application/vnd.jupyter.widget-view+json": {
       "version_major": 2,
       "version_minor": 0,
       "model_id": "95714da641494129b9daf7f70c0c4bff"
      }
     },
     "metadata": {},
     "output_type": "display_data"
    },
    {
     "data": {
      "text/plain": [
       "Button(description='Run Simulation', style=ButtonStyle())"
      ],
      "application/vnd.jupyter.widget-view+json": {
       "version_major": 2,
       "version_minor": 0,
       "model_id": "cd021b0078df484d8419d42caa65bc82"
      }
     },
     "metadata": {},
     "output_type": "display_data"
    },
    {
     "data": {
      "text/plain": [
       "Output()"
      ],
      "application/vnd.jupyter.widget-view+json": {
       "version_major": 2,
       "version_minor": 0,
       "model_id": "2f613ee458a945b3893ffd3aff5a4fa5"
      }
     },
     "metadata": {},
     "output_type": "display_data"
    },
    {
     "name": "stdout",
     "output_type": "stream",
     "text": [
      "Simulation started...\n"
     ]
    }
   ],
   "execution_count": 6
  },
  {
   "metadata": {
    "ExecuteTime": {
     "end_time": "2025-04-25T19:35:09.457195Z",
     "start_time": "2025-04-25T19:35:09.455946Z"
    }
   },
   "cell_type": "code",
   "source": "",
   "id": "fc5e970352eb5e26",
   "outputs": [],
   "execution_count": null
  }
 ],
 "metadata": {
  "kernelspec": {
   "display_name": "Python 3",
   "language": "python",
   "name": "python3"
  },
  "language_info": {
   "codemirror_mode": {
    "name": "ipython",
    "version": 2
   },
   "file_extension": ".py",
   "mimetype": "text/x-python",
   "name": "python",
   "nbconvert_exporter": "python",
   "pygments_lexer": "ipython2",
   "version": "2.7.6"
  }
 },
 "nbformat": 4,
 "nbformat_minor": 5
}
