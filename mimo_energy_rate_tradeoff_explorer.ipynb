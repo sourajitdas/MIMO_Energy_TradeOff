{
 "cells": [
  {
   "cell_type": "markdown",
   "metadata": {},
   "source": [
    "# 📓 MIMO Energy-Rate Tradeoff Simulation (Rayleigh, Correlated, Rician)\n",
    "---\n",
    "**Interactively explore MIMO channel models and energy-rate tradeoffs.**"
   ]
  },
  {
   "cell_type": "code",
   "metadata": {
    "ExecuteTime": {
     "end_time": "2025-04-25T18:48:38.708110Z",
     "start_time": "2025-04-25T18:48:38.506262Z"
    }
   },
   "source": [
    "# 1. Imports & Setup\n",
    "import numpy as np\n",
    "import matplotlib.pyplot as plt\n",
    "import ipywidgets as widgets\n",
    "from IPython.display import display, clear_output\n",
    "\n",
    "def water_filling(lam, total_power):\n",
    "    n = len(lam)\n",
    "    sorted_lam = np.sort(lam)[::-1]\n",
    "    for i in range(n):\n",
    "        mu = (total_power + sum(1.0 / sorted_lam[:i+1])) / (i + 1)\n",
    "        if all(mu - 1.0 / sorted_lam[j] >= 0 for j in range(i + 1)):\n",
    "            return mu\n",
    "    return None"
   ],
   "outputs": [],
   "execution_count": 1
  },
  {
   "cell_type": "code",
   "metadata": {
    "ExecuteTime": {
     "end_time": "2025-04-25T18:48:40.695326Z",
     "start_time": "2025-04-25T18:48:40.688827Z"
    }
   },
   "source": [
    "# 2. Channel Generation\n",
    "def generate_iid_rayleigh(m, n):\n",
    "    return np.random.randn(m, n) + 1j * np.random.randn(m, n)\n",
    "\n",
    "def generate_correlated_rayleigh(m, n, corr_coef=0.7):\n",
    "    Rt = np.eye(n) * (1 - corr_coef) + corr_coef * np.ones((n, n))\n",
    "    Rr = np.eye(m) * (1 - corr_coef) + corr_coef * np.ones((m, m))\n",
    "    H_iid = generate_iid_rayleigh(m, n)\n",
    "    return Rr @ H_iid @ Rt\n",
    "\n",
    "def generate_rician(m, n, K=5):\n",
    "    H_los = np.ones((m, n))\n",
    "    H_nlos = generate_iid_rayleigh(m, n)\n",
    "    return np.sqrt(K/(K+1)) * H_los + np.sqrt(1/(K+1)) * H_nlos"
   ],
   "outputs": [],
   "execution_count": 2
  },
  {
   "cell_type": "code",
   "metadata": {
    "ExecuteTime": {
     "end_time": "2025-04-25T18:48:46.196780Z",
     "start_time": "2025-04-25T18:48:46.192156Z"
    }
   },
   "source": [
    "# 3. Rate Computation\n",
    "def compute_rate(H, power_levels, sigma2):\n",
    "    U, S, Vh = np.linalg.svd(H)\n",
    "    lam = (S**2) / sigma2\n",
    "    rates = []\n",
    "    for P in power_levels:\n",
    "        mu = water_filling(lam, P)\n",
    "        if mu is None:\n",
    "            continue\n",
    "        p_alloc = np.maximum(mu - 1.0 / lam, 0)\n",
    "        rate = np.sum(np.log2(1 + lam * p_alloc))\n",
    "        rates.append((P, rate))\n",
    "    return np.array(rates)"
   ],
   "outputs": [],
   "execution_count": 3
  },
  {
   "cell_type": "code",
   "metadata": {
    "ExecuteTime": {
     "end_time": "2025-04-25T18:48:49.847689Z",
     "start_time": "2025-04-25T18:48:49.842381Z"
    }
   },
   "source": [
    "# 4. Simulation Runner\n",
    "def run_simulation(mimo_size, snr_inv, channel_type, num_channels=1):\n",
    "    m, n = mimo_size\n",
    "    sigma2 = snr_inv\n",
    "    power_levels = np.linspace(0.1, 10, 100)\n",
    "    all_rates = []\n",
    "    for _ in range(num_channels):\n",
    "        if channel_type == 'i.i.d Rayleigh':\n",
    "            H = generate_iid_rayleigh(m, n)\n",
    "        elif channel_type == 'Correlated Rayleigh':\n",
    "            H = generate_correlated_rayleigh(m, n)\n",
    "        elif channel_type == 'Rician':\n",
    "            H = generate_rician(m, n)\n",
    "        else:\n",
    "            raise ValueError('Invalid channel type')\n",
    "        rate_power = compute_rate(H, power_levels, sigma2)\n",
    "        all_rates.append(rate_power)\n",
    "    return all_rates"
   ],
   "outputs": [],
   "execution_count": 4
  },
  {
   "cell_type": "code",
   "metadata": {
    "ExecuteTime": {
     "end_time": "2025-04-25T18:48:52.674557Z",
     "start_time": "2025-04-25T18:48:52.668414Z"
    }
   },
   "source": [
    "# 5. Plotting\n",
    "def plot_results(results, mimo_size, snr_inv, channel_type):\n",
    "    plt.figure(figsize=(10, 7))\n",
    "    for i, curve in enumerate(results):\n",
    "        plt.plot(curve[:, 0], curve[:, 1], label=f'Channel {i+1}', alpha=0.7)\n",
    "        if i == 0:\n",
    "            idxs = [10, 30, 50, 70, 90]\n",
    "            for idx in idxs:\n",
    "                if idx < len(curve):\n",
    "                    p, r = curve[idx]\n",
    "                    plt.scatter(p, r, color='black')\n",
    "                    plt.text(p+0.2, r, f'{r:.2f}', fontsize=8)\n",
    "    plt.xlabel('Transmit Power (Watts)')\n",
    "    plt.ylabel('Achievable Rate (bits/s/Hz)')\n",
    "    plt.title(f'{channel_type} | {mimo_size[0]}x{mimo_size[1]} MIMO | SNR=1/{snr_inv}')\n",
    "    plt.grid(True)\n",
    "    plt.legend()\n",
    "    plt.tight_layout()\n",
    "    plt.show()"
   ],
   "outputs": [],
   "execution_count": 5
  },
  {
   "cell_type": "code",
   "metadata": {
    "ExecuteTime": {
     "end_time": "2025-04-25T18:49:03.530811Z",
     "start_time": "2025-04-25T18:49:03.503651Z"
    }
   },
   "source": [
    "# 6. GUI Setup\n",
    "mimo_dropdown = widgets.Dropdown(\n",
    "    options=[(f'{m}x{n}', (m, n)) for m, n in [(2, 2), (4, 4), (8, 8)]],\n",
    "    description='MIMO Size:',\n",
    ")\n",
    "\n",
    "channel_dropdown = widgets.Dropdown(\n",
    "    options=['i.i.d Rayleigh', 'Correlated Rayleigh', 'Rician'],\n",
    "    description='Channel Type:',\n",
    ")\n",
    "\n",
    "snr_slider = widgets.FloatSlider(\n",
    "    value=1.0,\n",
    "    min=0.1,\n",
    "    max=5.0,\n",
    "    step=0.1,\n",
    "    description='SNR (1/σ²):',\n",
    ")\n",
    "\n",
    "num_channels_slider = widgets.IntSlider(\n",
    "    value=1,\n",
    "    min=1,\n",
    "    max=5,\n",
    "    step=1,\n",
    "    description='Num Channels:',\n",
    ")\n",
    "\n",
    "run_button = widgets.Button(description='Run Simulation')\n",
    "output_area = widgets.Output()\n",
    "\n",
    "def on_run_button_clicked(b):\n",
    "    with output_area:\n",
    "        clear_output(wait=True)\n",
    "        mimo_size = mimo_dropdown.value\n",
    "        channel_type = channel_dropdown.value\n",
    "        snr_inv = snr_slider.value\n",
    "        num_channels = num_channels_slider.value\n",
    "        results = run_simulation(mimo_size, snr_inv, channel_type, num_channels)\n",
    "        plot_results(results, mimo_size, snr_inv, channel_type)\n",
    "\n",
    "run_button.on_click(on_run_button_clicked)\n",
    "\n",
    "display(mimo_dropdown, channel_dropdown, snr_slider, num_channels_slider, run_button, output_area)"
   ],
   "outputs": [
    {
     "name": "stderr",
     "output_type": "stream",
     "text": [
      "Widget Javascript not detected.  It may not be installed or enabled properly.\n"
     ]
    },
    {
     "data": {
      "application/vnd.jupyter.widget-view+json": {
       "model_id": "668eb42f7f904031a7d9e0d0b6224c04"
      }
     },
     "metadata": {},
     "output_type": "display_data"
    },
    {
     "name": "stderr",
     "output_type": "stream",
     "text": [
      "Widget Javascript not detected.  It may not be installed or enabled properly.\n"
     ]
    },
    {
     "data": {
      "application/vnd.jupyter.widget-view+json": {
       "model_id": "2a9277023a64496fbd325fcadef6436f"
      }
     },
     "metadata": {},
     "output_type": "display_data"
    },
    {
     "name": "stderr",
     "output_type": "stream",
     "text": [
      "Widget Javascript not detected.  It may not be installed or enabled properly.\n"
     ]
    },
    {
     "data": {
      "application/vnd.jupyter.widget-view+json": {
       "model_id": "3549cefe3bd140158ac1fec46390d88d"
      }
     },
     "metadata": {},
     "output_type": "display_data"
    },
    {
     "name": "stderr",
     "output_type": "stream",
     "text": [
      "Widget Javascript not detected.  It may not be installed or enabled properly.\n"
     ]
    },
    {
     "data": {
      "application/vnd.jupyter.widget-view+json": {
       "model_id": "48f39df5928b4dcda2f833d44ad52daa"
      }
     },
     "metadata": {},
     "output_type": "display_data"
    },
    {
     "name": "stderr",
     "output_type": "stream",
     "text": [
      "Widget Javascript not detected.  It may not be installed or enabled properly.\n"
     ]
    },
    {
     "data": {
      "application/vnd.jupyter.widget-view+json": {
       "model_id": "16201b97b39a403796b7ed54b9439572"
      }
     },
     "metadata": {},
     "output_type": "display_data"
    },
    {
     "name": "stderr",
     "output_type": "stream",
     "text": [
      "Widget Javascript not detected.  It may not be installed or enabled properly.\n"
     ]
    },
    {
     "data": {
      "application/vnd.jupyter.widget-view+json": {
       "model_id": "3bfb661a400f4d78b5f50593a63c526d"
      }
     },
     "metadata": {},
     "output_type": "display_data"
    }
   ],
   "execution_count": 6
  },
  {
   "metadata": {},
   "cell_type": "code",
   "outputs": [],
   "execution_count": null,
   "source": ""
  }
 ],
 "metadata": {
  "kernelspec": {
   "display_name": "Python 3",
   "language": "python",
   "name": "python3"
  },
  "language_info": {
   "name": "python",
   "version": "3.8"
  }
 },
 "nbformat": 4,
 "nbformat_minor": 2
}
